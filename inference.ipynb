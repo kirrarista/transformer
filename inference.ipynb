{
  "cells": [
    {
      "cell_type": "code",
      "execution_count": null,
      "metadata": {
        "id": "r8mtofNN3OQQ"
      },
      "outputs": [],
      "source": [
        "from google.colab import drive\n",
        "drive.mount('/content/drive')"
      ]
    },
    {
      "cell_type": "code",
      "execution_count": null,
      "metadata": {
        "id": "1esTi3Ru3XfP"
      },
      "outputs": [],
      "source": [
        "from peft import AutoPeftModelForSequenceClassification\n",
        "from transformers import AutoTokenizer\n",
        "import torch\n",
        "\n",
        "model = AutoPeftModelForSequenceClassification.from_pretrained(\"/content/drive/MyDrive/models/lora-toxic-roberta\")\n",
        "tokenizer = AutoTokenizer.from_pretrained(\"/content/drive/MyDrive/models/lora-toxic-roberta\")\n",
        "\n",
        "model.eval().to(\"cuda\")"
      ]
    },
    {
      "cell_type": "code",
      "source": [
        "from transformers import TextClassificationPipeline\n",
        "\n",
        "pipe = TextClassificationPipeline(\n",
        "    model=model.base_model.model,\n",
        "    tokenizer=tokenizer,\n",
        "    return_all_scores=True,\n",
        "    device=0\n",
        ")"
      ],
      "metadata": {
        "id": "hSwBm_ku49pD"
      },
      "execution_count": null,
      "outputs": []
    },
    {
      "cell_type": "code",
      "execution_count": null,
      "metadata": {
        "id": "8YMd9V3f33n7"
      },
      "outputs": [],
      "source": [
        "text = \"your good at the game\"\n",
        "\n",
        "result = pipe(text)\n",
        "toxic_prob = result[0][1][\"score\"]\n",
        "\n",
        "print(f\"Text: {text}\")\n",
        "print(f\"Toxic Probability: {toxic_prob:.4f}\")"
      ]
    }
  ],
  "metadata": {
    "accelerator": "GPU",
    "colab": {
      "gpuType": "A100",
      "provenance": []
    },
    "kernelspec": {
      "display_name": "Python 3",
      "name": "python3"
    },
    "language_info": {
      "name": "python"
    }
  },
  "nbformat": 4,
  "nbformat_minor": 0
}